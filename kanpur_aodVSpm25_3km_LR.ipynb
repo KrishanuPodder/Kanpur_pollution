{
 "cells": [
  {
   "cell_type": "markdown",
   "metadata": {},
   "source": [
    "### This notebook contains AOD(average) vs PM2.5 related data analysis (for 3KM, 3x3 grid)"
   ]
  },
  {
   "cell_type": "code",
   "execution_count": 7,
   "metadata": {},
   "outputs": [],
   "source": [
    "#importing libraries\n",
    "import matplotlib.pyplot as plt\n",
    "import pandas as pd\n",
    "import pylab as pl\n",
    "import numpy as np\n",
    "%matplotlib inline"
   ]
  },
  {
   "cell_type": "code",
   "execution_count": 8,
   "metadata": {},
   "outputs": [
    {
     "data": {
      "text/html": [
       "<div>\n",
       "<style scoped>\n",
       "    .dataframe tbody tr th:only-of-type {\n",
       "        vertical-align: middle;\n",
       "    }\n",
       "\n",
       "    .dataframe tbody tr th {\n",
       "        vertical-align: top;\n",
       "    }\n",
       "\n",
       "    .dataframe thead th {\n",
       "        text-align: right;\n",
       "    }\n",
       "</style>\n",
       "<table border=\"1\" class=\"dataframe\">\n",
       "  <thead>\n",
       "    <tr style=\"text-align: right;\">\n",
       "      <th></th>\n",
       "      <th>filename</th>\n",
       "      <th>date</th>\n",
       "      <th>avgAOD</th>\n",
       "      <th>cpcbPM25</th>\n",
       "      <th>calcPM25</th>\n",
       "    </tr>\n",
       "  </thead>\n",
       "  <tbody>\n",
       "    <tr>\n",
       "      <th>0</th>\n",
       "      <td>MYD04_3K.A2020062.0815.061.2020062195539.hdf</td>\n",
       "      <td>02-03-20</td>\n",
       "      <td>0.676</td>\n",
       "      <td>43.14</td>\n",
       "      <td>58.26276</td>\n",
       "    </tr>\n",
       "    <tr>\n",
       "      <th>1</th>\n",
       "      <td>MYD04_3K.A2020063.0720.061.2020063192715.hdf</td>\n",
       "      <td>03-03-20</td>\n",
       "      <td>1.002</td>\n",
       "      <td>66.14</td>\n",
       "      <td>65.92702</td>\n",
       "    </tr>\n",
       "    <tr>\n",
       "      <th>2</th>\n",
       "      <td>MYD04_3K.A2020064.0800.061.2020064194040.hdf</td>\n",
       "      <td>04-03-20</td>\n",
       "      <td>1.205</td>\n",
       "      <td>66.38</td>\n",
       "      <td>70.69955</td>\n",
       "    </tr>\n",
       "    <tr>\n",
       "      <th>3</th>\n",
       "      <td>MYD04_3K.A2020065.0845.061.2020070013550.hdf</td>\n",
       "      <td>05-03-20</td>\n",
       "      <td>0.809</td>\n",
       "      <td>71.02</td>\n",
       "      <td>61.38959</td>\n",
       "    </tr>\n",
       "    <tr>\n",
       "      <th>4</th>\n",
       "      <td>MYD04_3K.A2020068.0735.061.2020070140238.hdf</td>\n",
       "      <td>08-03-20</td>\n",
       "      <td>0.105</td>\n",
       "      <td>29.00</td>\n",
       "      <td>44.83855</td>\n",
       "    </tr>\n",
       "  </tbody>\n",
       "</table>\n",
       "</div>"
      ],
      "text/plain": [
       "                                       filename      date  avgAOD  cpcbPM25  \\\n",
       "0  MYD04_3K.A2020062.0815.061.2020062195539.hdf  02-03-20   0.676     43.14   \n",
       "1  MYD04_3K.A2020063.0720.061.2020063192715.hdf  03-03-20   1.002     66.14   \n",
       "2  MYD04_3K.A2020064.0800.061.2020064194040.hdf  04-03-20   1.205     66.38   \n",
       "3  MYD04_3K.A2020065.0845.061.2020070013550.hdf  05-03-20   0.809     71.02   \n",
       "4  MYD04_3K.A2020068.0735.061.2020070140238.hdf  08-03-20   0.105     29.00   \n",
       "\n",
       "   calcPM25  \n",
       "0  58.26276  \n",
       "1  65.92702  \n",
       "2  70.69955  \n",
       "3  61.38959  \n",
       "4  44.83855  "
      ]
     },
     "execution_count": 8,
     "metadata": {},
     "output_type": "execute_result"
    }
   ],
   "source": [
    "#reading data\n",
    "df = pd.read_csv(\"validcsv.csv\")\n",
    "# take a look at the dataset\n",
    "df.head()"
   ]
  },
  {
   "cell_type": "code",
   "execution_count": 9,
   "metadata": {},
   "outputs": [
    {
     "data": {
      "text/html": [
       "<div>\n",
       "<style scoped>\n",
       "    .dataframe tbody tr th:only-of-type {\n",
       "        vertical-align: middle;\n",
       "    }\n",
       "\n",
       "    .dataframe tbody tr th {\n",
       "        vertical-align: top;\n",
       "    }\n",
       "\n",
       "    .dataframe thead th {\n",
       "        text-align: right;\n",
       "    }\n",
       "</style>\n",
       "<table border=\"1\" class=\"dataframe\">\n",
       "  <thead>\n",
       "    <tr style=\"text-align: right;\">\n",
       "      <th></th>\n",
       "      <th>avgAOD</th>\n",
       "      <th>cpcbPM25</th>\n",
       "      <th>calcPM25</th>\n",
       "    </tr>\n",
       "  </thead>\n",
       "  <tbody>\n",
       "    <tr>\n",
       "      <th>count</th>\n",
       "      <td>20.000000</td>\n",
       "      <td>20.000000</td>\n",
       "      <td>20.000000</td>\n",
       "    </tr>\n",
       "    <tr>\n",
       "      <th>mean</th>\n",
       "      <td>0.544900</td>\n",
       "      <td>57.966500</td>\n",
       "      <td>55.180599</td>\n",
       "    </tr>\n",
       "    <tr>\n",
       "      <th>std</th>\n",
       "      <td>0.374602</td>\n",
       "      <td>18.116716</td>\n",
       "      <td>8.806885</td>\n",
       "    </tr>\n",
       "    <tr>\n",
       "      <th>min</th>\n",
       "      <td>0.105000</td>\n",
       "      <td>25.000000</td>\n",
       "      <td>44.838550</td>\n",
       "    </tr>\n",
       "    <tr>\n",
       "      <th>25%</th>\n",
       "      <td>0.291000</td>\n",
       "      <td>47.700000</td>\n",
       "      <td>49.211410</td>\n",
       "    </tr>\n",
       "    <tr>\n",
       "      <th>50%</th>\n",
       "      <td>0.399000</td>\n",
       "      <td>59.310000</td>\n",
       "      <td>51.750490</td>\n",
       "    </tr>\n",
       "    <tr>\n",
       "      <th>75%</th>\n",
       "      <td>0.731500</td>\n",
       "      <td>67.540000</td>\n",
       "      <td>59.567565</td>\n",
       "    </tr>\n",
       "    <tr>\n",
       "      <th>max</th>\n",
       "      <td>1.535000</td>\n",
       "      <td>86.930000</td>\n",
       "      <td>78.457850</td>\n",
       "    </tr>\n",
       "  </tbody>\n",
       "</table>\n",
       "</div>"
      ],
      "text/plain": [
       "          avgAOD   cpcbPM25   calcPM25\n",
       "count  20.000000  20.000000  20.000000\n",
       "mean    0.544900  57.966500  55.180599\n",
       "std     0.374602  18.116716   8.806885\n",
       "min     0.105000  25.000000  44.838550\n",
       "25%     0.291000  47.700000  49.211410\n",
       "50%     0.399000  59.310000  51.750490\n",
       "75%     0.731500  67.540000  59.567565\n",
       "max     1.535000  86.930000  78.457850"
      ]
     },
     "execution_count": 9,
     "metadata": {},
     "output_type": "execute_result"
    }
   ],
   "source": [
    "# summarize the data\n",
    "df.describe()"
   ]
  },
  {
   "cell_type": "code",
   "execution_count": 10,
   "metadata": {},
   "outputs": [
    {
     "data": {
      "text/html": [
       "<div>\n",
       "<style scoped>\n",
       "    .dataframe tbody tr th:only-of-type {\n",
       "        vertical-align: middle;\n",
       "    }\n",
       "\n",
       "    .dataframe tbody tr th {\n",
       "        vertical-align: top;\n",
       "    }\n",
       "\n",
       "    .dataframe thead th {\n",
       "        text-align: right;\n",
       "    }\n",
       "</style>\n",
       "<table border=\"1\" class=\"dataframe\">\n",
       "  <thead>\n",
       "    <tr style=\"text-align: right;\">\n",
       "      <th></th>\n",
       "      <th>avgAOD</th>\n",
       "      <th>cpcbPM25</th>\n",
       "      <th>calcPM25</th>\n",
       "    </tr>\n",
       "  </thead>\n",
       "  <tbody>\n",
       "    <tr>\n",
       "      <th>0</th>\n",
       "      <td>0.676</td>\n",
       "      <td>43.14</td>\n",
       "      <td>58.26276</td>\n",
       "    </tr>\n",
       "    <tr>\n",
       "      <th>1</th>\n",
       "      <td>1.002</td>\n",
       "      <td>66.14</td>\n",
       "      <td>65.92702</td>\n",
       "    </tr>\n",
       "    <tr>\n",
       "      <th>2</th>\n",
       "      <td>1.205</td>\n",
       "      <td>66.38</td>\n",
       "      <td>70.69955</td>\n",
       "    </tr>\n",
       "    <tr>\n",
       "      <th>3</th>\n",
       "      <td>0.809</td>\n",
       "      <td>71.02</td>\n",
       "      <td>61.38959</td>\n",
       "    </tr>\n",
       "    <tr>\n",
       "      <th>4</th>\n",
       "      <td>0.105</td>\n",
       "      <td>29.00</td>\n",
       "      <td>44.83855</td>\n",
       "    </tr>\n",
       "    <tr>\n",
       "      <th>5</th>\n",
       "      <td>0.724</td>\n",
       "      <td>61.73</td>\n",
       "      <td>59.39124</td>\n",
       "    </tr>\n",
       "    <tr>\n",
       "      <th>6</th>\n",
       "      <td>1.535</td>\n",
       "      <td>73.70</td>\n",
       "      <td>78.45785</td>\n",
       "    </tr>\n",
       "    <tr>\n",
       "      <th>7</th>\n",
       "      <td>0.165</td>\n",
       "      <td>54.65</td>\n",
       "      <td>46.24915</td>\n",
       "    </tr>\n",
       "    <tr>\n",
       "      <th>8</th>\n",
       "      <td>0.349</td>\n",
       "      <td>53.11</td>\n",
       "      <td>50.57499</td>\n",
       "    </tr>\n",
       "  </tbody>\n",
       "</table>\n",
       "</div>"
      ],
      "text/plain": [
       "   avgAOD  cpcbPM25  calcPM25\n",
       "0   0.676     43.14  58.26276\n",
       "1   1.002     66.14  65.92702\n",
       "2   1.205     66.38  70.69955\n",
       "3   0.809     71.02  61.38959\n",
       "4   0.105     29.00  44.83855\n",
       "5   0.724     61.73  59.39124\n",
       "6   1.535     73.70  78.45785\n",
       "7   0.165     54.65  46.24915\n",
       "8   0.349     53.11  50.57499"
      ]
     },
     "execution_count": 10,
     "metadata": {},
     "output_type": "execute_result"
    }
   ],
   "source": [
    "#selecting necessary columns from the data set\n",
    "cdf = df[['avgAOD','cpcbPM25','calcPM25']]\n",
    "cdf.head(9)"
   ]
  },
  {
   "cell_type": "code",
   "execution_count": 11,
   "metadata": {},
   "outputs": [
    {
     "data": {
      "image/png": "[encoded data removed]",
      "text/plain": [
       "<Figure size 432x288 with 4 Axes>"
      ]
     },
     "metadata": {
      "needs_background": "light"
     },
     "output_type": "display_data"
    }
   ],
   "source": [
    "#visualizing the histogram of each column\n",
    "viz = cdf[['avgAOD','cpcbPM25','calcPM25']]\n",
    "viz.hist()\n",
    "plt.show()"
   ]
  },
  {
   "cell_type": "code",
   "execution_count": 12,
   "metadata": {},
   "outputs": [
    {
     "data": {
      "image/png": "[encoded data removed]",
      "text/plain": [
       "<Figure size 432x288 with 1 Axes>"
      ]
     },
     "metadata": {
      "needs_background": "light"
     },
     "output_type": "display_data"
    }
   ],
   "source": [
    "#scatter plot of CPCB-PM2.5 vs AOD(Average)\n",
    "plt.scatter(cdf.cpcbPM25, cdf.avgAOD,  color='blue')\n",
    "plt.xlabel(\"cpcbPM25\")\n",
    "plt.ylabel(\"avgAOD\")\n",
    "plt.show()"
   ]
  },
  {
   "cell_type": "code",
   "execution_count": 13,
   "metadata": {},
   "outputs": [
    {
     "data": {
      "image/png": "[encoded data removed]",
      "text/plain": [
       "<Figure size 432x288 with 1 Axes>"
      ]
     },
     "metadata": {
      "needs_background": "light"
     },
     "output_type": "display_data"
    }
   ],
   "source": [
    "#scatter plot of calculated-PM2.5 vs AOD(Average)\n",
    "plt.scatter(cdf.calcPM25, cdf.avgAOD,  color='red')\n",
    "plt.xlabel(\"calcPM25\")\n",
    "plt.ylabel(\"avgAOD\")\n",
    "plt.show()"
   ]
  },
  {
   "cell_type": "code",
   "execution_count": 14,
   "metadata": {},
   "outputs": [],
   "source": [
    "#creating training and testing dataset for Linear regression\n",
    "msk = np.random.rand(len(df)) < 0.8\n",
    "train = cdf[msk]\n",
    "test = cdf[~msk]"
   ]
  },
  {
   "cell_type": "code",
   "execution_count": 15,
   "metadata": {},
   "outputs": [
    {
     "data": {
      "image/png": "[encoded data removed]",
      "text/plain": [
       "<Figure size 432x288 with 1 Axes>"
      ]
     },
     "metadata": {
      "needs_background": "light"
     },
     "output_type": "display_data"
    }
   ],
   "source": [
    "plt.scatter(train.calcPM25, train.avgAOD,  color='blue')\n",
    "plt.xlabel(\"calcPM25\")\n",
    "plt.ylabel(\"avgAOD\")\n",
    "plt.show()"
   ]
  },
  {
   "cell_type": "code",
   "execution_count": 16,
   "metadata": {},
   "outputs": [
    {
     "name": "stdout",
     "output_type": "stream",
     "text": [
      "Coefficients:  [[0.04253509]]\n",
      "Intercept:  [-1.80221182]\n"
     ]
    }
   ],
   "source": [
    "#Finding the coefficient and intercept\n",
    "from sklearn import linear_model\n",
    "regr = linear_model.LinearRegression()\n",
    "train_x = np.asanyarray(train[['calcPM25']])\n",
    "train_y = np.asanyarray(train[['avgAOD']])\n",
    "regr.fit (train_x, train_y)\n",
    "# The coefficients\n",
    "print ('Coefficients: ', regr.coef_)\n",
    "print ('Intercept: ',regr.intercept_)"
   ]
  },
  {
   "cell_type": "code",
   "execution_count": 17,
   "metadata": {},
   "outputs": [
    {
     "data": {
      "text/plain": [
       "Text(0, 0.5, 'avgAOD')"
      ]
     },
     "execution_count": 17,
     "metadata": {},
     "output_type": "execute_result"
    },
    {
     "data": {
      "image/png": "[encoded data removed]",
      "text/plain": [
       "<Figure size 432x288 with 1 Axes>"
      ]
     },
     "metadata": {
      "needs_background": "light"
     },
     "output_type": "display_data"
    }
   ],
   "source": [
    "plt.scatter(train.calcPM25, train.avgAOD,  color='blue')\n",
    "plt.plot(train_x, regr.coef_[0][0]*train_x + regr.intercept_[0], '-r')\n",
    "plt.xlabel(\"calcPM25\")\n",
    "plt.ylabel(\"avgAOD\")"
   ]
  },
  {
   "cell_type": "code",
   "execution_count": 18,
   "metadata": {},
   "outputs": [
    {
     "name": "stdout",
     "output_type": "stream",
     "text": [
      "Mean absolute error: 0.00\n",
      "Residual sum of squares (MSE): 0.00\n",
      "R2-score: 1.00\n"
     ]
    }
   ],
   "source": [
    "#EVALUATION\n",
    "from sklearn.metrics import r2_score\n",
    "\n",
    "test_x = np.asanyarray(test[['calcPM25']])\n",
    "test_y = np.asanyarray(test[['avgAOD']])\n",
    "test_y_hat = regr.predict(test_x)\n",
    "\n",
    "print(\"Mean absolute error: %.2f\" % np.mean(np.absolute(test_y_hat - test_y)))\n",
    "print(\"Residual sum of squares (MSE): %.2f\" % np.mean((test_y_hat - test_y) ** 2))\n",
    "print(\"R2-score: %.2f\" % r2_score(test_y_hat , test_y) )"
   ]
  },
  {
   "cell_type": "markdown",
   "metadata": {},
   "source": [
    "## for CPCB-PM2.5 vs AOD (avg)"
   ]
  },
  {
   "cell_type": "code",
   "execution_count": 19,
   "metadata": {},
   "outputs": [
    {
     "data": {
      "image/png": "[encoded data removed]",
      "text/plain": [
       "<Figure size 432x288 with 1 Axes>"
      ]
     },
     "metadata": {
      "needs_background": "light"
     },
     "output_type": "display_data"
    }
   ],
   "source": [
    "plt.scatter(train.cpcbPM25, train.avgAOD,  color='blue')\n",
    "plt.xlabel(\"cpcbPM25\")\n",
    "plt.ylabel(\"avgAOD\")\n",
    "plt.show()"
   ]
  },
  {
   "cell_type": "code",
   "execution_count": 20,
   "metadata": {},
   "outputs": [
    {
     "name": "stdout",
     "output_type": "stream",
     "text": [
      "Coefficients:  [[0.01346252]]\n",
      "Intercept:  [-0.2098575]\n"
     ]
    }
   ],
   "source": [
    "from sklearn import linear_model\n",
    "regr = linear_model.LinearRegression()\n",
    "train_x = np.asanyarray(train[['cpcbPM25']])\n",
    "train_y = np.asanyarray(train[['avgAOD']])\n",
    "regr.fit (train_x, train_y)\n",
    "# The coefficients\n",
    "print ('Coefficients: ', regr.coef_)\n",
    "print ('Intercept: ',regr.intercept_)"
   ]
  },
  {
   "cell_type": "code",
   "execution_count": 21,
   "metadata": {},
   "outputs": [
    {
     "data": {
      "text/plain": [
       "Text(0, 0.5, 'avgAOD')"
      ]
     },
     "execution_count": 21,
     "metadata": {},
     "output_type": "execute_result"
    },
    {
     "data": {
      "image/png": "[encoded data removed]",
      "text/plain": [
       "<Figure size 432x288 with 1 Axes>"
      ]
     },
     "metadata": {
      "needs_background": "light"
     },
     "output_type": "display_data"
    }
   ],
   "source": [
    "plt.scatter(train.cpcbPM25, train.avgAOD,  color='blue')\n",
    "plt.plot(train_x, regr.coef_[0][0]*train_x + regr.intercept_[0], '-r')\n",
    "plt.xlabel(\"cpcbPM25\")\n",
    "plt.ylabel(\"avgAOD\")"
   ]
  },
  {
   "cell_type": "code",
   "execution_count": 22,
   "metadata": {},
   "outputs": [
    {
     "name": "stdout",
     "output_type": "stream",
     "text": [
      "Mean absolute error: 0.25\n",
      "Residual sum of squares (MSE): 0.11\n",
      "R2-score: -0.09\n"
     ]
    }
   ],
   "source": [
    "from sklearn.metrics import r2_score\n",
    "\n",
    "test_x = np.asanyarray(test[['cpcbPM25']])\n",
    "test_y = np.asanyarray(test[['avgAOD']])\n",
    "test_y_hat = regr.predict(test_x)\n",
    "\n",
    "print(\"Mean absolute error: %.2f\" % np.mean(np.absolute(test_y_hat - test_y)))\n",
    "print(\"Residual sum of squares (MSE): %.2f\" % np.mean((test_y_hat - test_y) ** 2))\n",
    "print(\"R2-score: %.2f\" % r2_score(test_y_hat , test_y) )"
   ]
  },
  {
   "cell_type": "code",
   "execution_count": null,
   "metadata": {},
   "outputs": [],
   "source": []
  }
 ],
 "metadata": {
  "kernelspec": {
   "display_name": "Python",
   "language": "python",
   "name": "conda-env-python-py"
  },
  "language_info": {
   "codemirror_mode": {
    "name": "ipython",
    "version": 3
   },
   "file_extension": ".py",
   "mimetype": "text/x-python",
   "name": "python",
   "nbconvert_exporter": "python",
   "pygments_lexer": "ipython3",
   "version": "3.6.10"
  }
 },
 "nbformat": 4,
 "nbformat_minor": 4
}
